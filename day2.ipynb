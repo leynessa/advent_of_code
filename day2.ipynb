{
  "nbformat": 4,
  "nbformat_minor": 0,
  "metadata": {
    "colab": {
      "provenance": [],
      "authorship_tag": "ABX9TyNfX7mQ3AKMQYAjiJyIvxho",
      "include_colab_link": true
    },
    "kernelspec": {
      "name": "python3",
      "display_name": "Python 3"
    },
    "language_info": {
      "name": "python"
    }
  },
  "cells": [
    {
      "cell_type": "markdown",
      "metadata": {
        "id": "view-in-github",
        "colab_type": "text"
      },
      "source": [
        "<a href=\"https://colab.research.google.com/github/leynessa/advent_of_code/blob/main/day2.ipynb\" target=\"_parent\"><img src=\"https://colab.research.google.com/assets/colab-badge.svg\" alt=\"Open In Colab\"/></a>"
      ]
    },
    {
      "cell_type": "markdown",
      "source": [
        "Day 2: Rock Paper Scissors ---\n",
        "The Elves begin to set up camp on the beach. To decide whose tent gets to be closest to the snack storage, a giant Rock Paper Scissors tournament is already in progress.\n",
        "\n",
        "Rock Paper Scissors is a game between two players. Each game contains many rounds; in each round, the players each simultaneously choose one of Rock, Paper, or Scissors using a hand shape. Then, a winner for that round is selected: Rock defeats Scissors, Scissors defeats Paper, and Paper defeats Rock. If both players choose the same shape, the round instead ends in a draw.\n",
        "\n",
        "Appreciative of your help yesterday, one Elf gives you an encrypted strategy guide (your puzzle input) that they say will be sure to help you win. \"The first column is what your opponent is going to play: A for Rock, B for Paper, and C for Scissors. The second column--\" Suddenly, the Elf is called away to help with someone's tent.\n",
        "\n",
        "The second column, you reason, must be what you should play in response: X for Rock, Y for Paper, and Z for Scissors. Winning every time would be suspicious, so the responses must have been carefully chosen.\n",
        "\n",
        "The winner of the whole tournament is the player with the highest score. Your total score is the sum of your scores for each round. The score for a single round is the score for the shape you selected (1 for Rock, 2 for Paper, and 3 for Scissors) plus the score for the outcome of the round (0 if you lost, 3 if the round was a draw, and 6 if you won).\n",
        "\n",
        "Since you can't be sure if the Elf is trying to help you or trick you, you should calculate the score you would get if you were to follow the strategy guide.\n",
        "\n",
        "For example, suppose you were given the following strategy guide:\n",
        "\n",
        "A Y\n",
        "B X\n",
        "C Z\n",
        "This strategy guide predicts and recommends the following:\n",
        "\n",
        "In the first round, your opponent will choose Rock (A), and you should choose Paper (Y). This ends in a win for you with a score of 8 (2 because you chose Paper + 6 because you won).\n",
        "In the second round, your opponent will choose Paper (B), and you should choose Rock (X). This ends in a loss for you with a score of 1 (1 + 0).\n",
        "The third round is a draw with both players choosing Scissors, giving you a score of 3 + 3 = 6.\n",
        "In this example, if you were to follow the strategy guide, you would get a total score of 15 (8 + 1 + 6).\n",
        "\n",
        "What would your total score be if everything goes exactly according to your strategy guide?"
      ],
      "metadata": {
        "id": "ZEmbc2DsuDGr"
      }
    },
    {
      "cell_type": "code",
      "execution_count": 1,
      "metadata": {
        "colab": {
          "base_uri": "https://localhost:8080/",
          "height": 235
        },
        "id": "2FKRsLVmMxHg",
        "outputId": "c958d619-47a6-4cee-88da-30999fa88235"
      },
      "outputs": [
        {
          "output_type": "error",
          "ename": "FileNotFoundError",
          "evalue": "ignored",
          "traceback": [
            "\u001b[0;31m---------------------------------------------------------------------------\u001b[0m",
            "\u001b[0;31mFileNotFoundError\u001b[0m                         Traceback (most recent call last)",
            "\u001b[0;32m<ipython-input-1-4087bd64b30a>\u001b[0m in \u001b[0;36m<module>\u001b[0;34m\u001b[0m\n\u001b[0;32m----> 1\u001b[0;31m \u001b[0;32mwith\u001b[0m \u001b[0mopen\u001b[0m\u001b[0;34m(\u001b[0m\u001b[0;34m'input.txt'\u001b[0m\u001b[0;34m)\u001b[0m \u001b[0;32mas\u001b[0m \u001b[0mf\u001b[0m\u001b[0;34m:\u001b[0m\u001b[0;34m\u001b[0m\u001b[0;34m\u001b[0m\u001b[0m\n\u001b[0m\u001b[1;32m      2\u001b[0m     \u001b[0mlines\u001b[0m \u001b[0;34m=\u001b[0m \u001b[0mf\u001b[0m\u001b[0;34m.\u001b[0m\u001b[0mreadlines\u001b[0m\u001b[0;34m(\u001b[0m\u001b[0;34m)\u001b[0m\u001b[0;34m\u001b[0m\u001b[0;34m\u001b[0m\u001b[0m\n\u001b[1;32m      3\u001b[0m \u001b[0;34m\u001b[0m\u001b[0m\n\u001b[1;32m      4\u001b[0m \u001b[0;32mdef\u001b[0m \u001b[0mpart_one\u001b[0m\u001b[0;34m(\u001b[0m\u001b[0mtheir_throw\u001b[0m\u001b[0;34m,\u001b[0m \u001b[0myour_response\u001b[0m\u001b[0;34m)\u001b[0m\u001b[0;34m:\u001b[0m\u001b[0;34m\u001b[0m\u001b[0;34m\u001b[0m\u001b[0m\n\u001b[1;32m      5\u001b[0m     \u001b[0mround_points\u001b[0m \u001b[0;34m=\u001b[0m \u001b[0;36m0\u001b[0m\u001b[0;34m\u001b[0m\u001b[0;34m\u001b[0m\u001b[0m\n",
            "\u001b[0;31mFileNotFoundError\u001b[0m: [Errno 2] No such file or directory: 'input.txt'"
          ]
        }
      ],
      "source": [
        "with open('input.txt') as f:\n",
        "    lines = f.readlines()\n",
        "    \n",
        "def part_one(their_throw, your_response):\n",
        "    round_points = 0\n",
        "    if their_throw == 'A': # Rock\n",
        "        if your_response == 'X': # Rock (+1)\n",
        "            round_points += 4 # Draw (+3)\n",
        "        if your_response == 'Y': # Paper (+2)\n",
        "            round_points += 8 # Win (+6)\n",
        "        if your_response == 'Z': # Scissors (+3)\n",
        "            round_points += 3 # Loss (+0)\n",
        " \n",
        "    elif their_throw == 'B': # Paper\n",
        "        if your_response == 'X': # Rock (+1)\n",
        "            round_points += 1 # Loss (+0)\n",
        "        if your_response == 'Y': # Paper (+2)\n",
        "            round_points += 5 # Draw (+3)\n",
        "        if your_response == 'Z': # Scissors (+3)\n",
        "            round_points += 9 # Win (+6)    \n",
        "   \n",
        "    elif their_throw == 'C': # Scissors\n",
        "        if your_response == 'X': # Rock (+1)\n",
        "            round_points += 7 # Win (+6)\n",
        "        if your_response == 'Y': # Paper (+2)\n",
        "            round_points += 2 # Loss (+0)\n",
        "        if your_response == 'Z': # Scissors (+3)\n",
        "            round_points += 6 # Draw (+3)\n",
        "    return round_points\n",
        " \n",
        " \n",
        "def part_two(their_throw, your_response):\n",
        "    round_points = 0\n",
        "    if their_throw == 'A': # Rock\n",
        "        if your_response == 'X': # Need to lose (+0)\n",
        "            round_points += 3 # Scissors (+3)\n",
        "        if your_response == 'Y': # Need to draw (+3)\n",
        "            round_points += 4 # Rock (+1)\n",
        "        if your_response == 'Z': # Need to win (+6)\n",
        "            round_points += 8 # Paper (+2)\n",
        " \n",
        "    elif their_throw == 'B': # Paper\n",
        "        if your_response == 'X': # Need to lose (+0)\n",
        "            round_points += 1 # Rock (+1)\n",
        "        if your_response == 'Y': # Need to draw (+3)\n",
        "            round_points += 5 # Paper (+2)\n",
        "        if your_response == 'Z': # Need to win (+6)\n",
        "            round_points += 9 # Scissors (+3)  \n",
        "   \n",
        "    elif their_throw == 'C': # Scissors\n",
        "        if your_response == 'X': # Need to lose (+0)\n",
        "            round_points += 2 # Paper (+2)\n",
        "        if your_response == 'Y': # Need to draw (+3)\n",
        "            round_points += 6 # Scissors (+3)\n",
        "        if your_response == 'Z': # Need to win (+6)\n",
        "            round_points += 7 # Rock (+1)\n",
        "    return round_points\n",
        " \n",
        "part_one_score = 0\n",
        "part_two_score = 0    \n",
        " \n",
        "with open('input.txt') as input_data:\n",
        "    input_data = [line.strip() for line in input_data.readlines()]\n",
        " \n",
        "    for round in input_data:\n",
        "        part_one_score += part_one(round[0], round[2])\n",
        "        part_two_score += part_two(round[0], round[2])\n",
        " \n",
        "print(part_one_score)\n",
        "print(part_two_score)"
      ]
    },
    {
      "cell_type": "markdown",
      "source": [
        "# New Section"
      ],
      "metadata": {
        "id": "5Zv4Z85syocl"
      }
    },
    {
      "cell_type": "code",
      "source": [],
      "metadata": {
        "id": "TFvnrdeszOMY"
      },
      "execution_count": null,
      "outputs": []
    },
    {
      "cell_type": "markdown",
      "source": [],
      "metadata": {
        "id": "GSkLKDmCuB64"
      }
    },
    {
      "cell_type": "code",
      "source": [
        "\n",
        "    "
      ],
      "metadata": {
        "id": "23ESd-ikyR7j",
        "outputId": "ac832a3d-5015-4d63-9d00-84282fdad3b1",
        "colab": {
          "base_uri": "https://localhost:8080/"
        }
      },
      "execution_count": 4,
      "outputs": [
        {
          "output_type": "stream",
          "name": "stdout",
          "text": [
            "['A Y', 'B Y', 'B Z', 'B Z', 'B X', 'B Z', 'C Y', 'A Z', 'C X', 'C X', 'B Z', 'B Z', 'B Z', 'A X', 'B Z', 'B Z', 'A Y', 'B Z', 'A Z', 'B X', 'B Z', 'A X', 'A X', 'B Z', 'A Y', 'A Z', 'B Z', 'A Y', 'A Z', 'B Z', 'A Z', 'B Z', 'B Z', 'C Y', 'B Z', 'B Z', 'A X', 'C X', 'B Z', 'A X', 'B Z', 'C X', 'A X', 'B Z', 'A X', 'A X', 'C X', 'B Z', 'B Z', 'B Z', 'C Y', 'C Y', 'A X', 'B Z', 'C X', 'B Z', 'A X', 'A Y', 'B Z', 'B Z', 'B Z', 'B Z', 'B Z', 'B X', 'B Z', 'B Z', 'B Z', 'B X', 'A X', 'A X', 'B Z', 'A Y', 'C Y', 'C Y', 'A Y', 'A X', 'B Z', 'A Y', 'A Z', 'A X', 'A X', 'A Y', 'C Y', 'B Z', 'B Z', 'C X', 'B Z', 'A Y', 'A X', 'B Z', 'B Z', 'A X', 'A X', 'A X', 'B Z', 'A Y', 'B Z', 'A Z', 'C Y', 'B Z', 'B Z', 'B Z', 'C Y', 'A Y', 'C Y', 'B Z', 'A X', 'B Z', 'A X', 'B Z', 'C Y', 'B Z', 'B Z', 'B Z', 'C X', 'B Z', 'A X', 'B Z', 'B Z', 'B Z', 'A X', 'A X', 'B X', 'C Y', 'B Z', 'B Z', 'B Z', 'A X', 'B Z', 'A X', 'B Z', 'A X', 'A Z', 'A X', 'B Z', 'A X', 'C Y', 'A X', 'B Z', 'A X', 'C Y', 'B Z', 'B Z', 'A X', 'A X', 'B Z', 'C Y', 'B Y', 'B Z', 'B Z', 'B Z', 'B X', 'B Z', 'B Z', 'B Z', 'A X', 'B Z', 'C Y', 'C Y', 'A Z', 'A X', 'B Z', 'B Z', 'B Y', 'B Z', 'B Z', 'C Y', 'B Z', 'B Y', 'B Z', 'C Y', 'B Z', 'B Z', 'C X', 'C X', 'C X', 'B Z', 'A Z', 'A X', 'C Y', 'A Z', 'B Z', 'B Z', 'B Z', 'B Z', 'A X', 'A X', 'B Z', 'B Z', 'A Z', 'A X', 'A X', 'B Z', 'C Y', 'A X', 'A Z', 'A Y', 'A Y', 'A X', 'B Z', 'A X', 'A Z', 'B Z', 'C X', 'B Z', 'C X', 'C Y', 'B Z', 'B Z', 'B Z', 'B Z', 'B Z', 'C Y', 'A X', 'C Y', 'A X', 'B Y', 'B Y', 'A X', 'A X', 'B Z', 'B Z', 'C X', 'A Z', 'C Y', 'A X', 'A X', 'A Y', 'A X', 'A X', 'B Z', 'A Z', 'B Z', 'B Z', 'B Z', 'A Z', 'A X', 'B Z', 'B Z', 'C Y', 'B Z', 'B Z', 'B Z', 'A X', 'A X', 'B Z', 'B Z', 'B Z', 'B Z', 'B Z', 'B Z', 'A X', 'C X', 'A X', 'A X', 'C Y', 'A X', 'B Z', 'C Y', 'B Z', 'B Z', 'B Z', 'A X', 'B Z', 'C Y', 'B Z', 'A X', 'A X', 'B Z', 'A X', 'A X', 'B Z', 'A Z', 'B X', 'A X', 'A X', 'B Z', 'C Y', 'A Y', 'A X', 'C X', 'B Z', 'A X', 'B Z', 'B Z', 'A X', 'B Z', 'A Z', 'C Y', 'B Z', 'B Z', 'A X', 'A X', 'B X', 'A X', 'B Z', 'B Z', 'C X', 'A X', 'C X', 'A X', 'B Z', 'B Z', 'A X', 'A Z', 'B Z', 'B X', 'A X', 'A Y', 'B Z', 'B Z', 'B Z', 'C X', 'C Y', 'B Z', 'B Z', 'C Z', 'B X', 'C Y', 'C Z', 'B Z', 'B Z', 'A X', 'B Z', 'C X', 'B Z', 'B Z', 'A Z', 'A X', 'C X', 'B Z', 'B Z', 'A X', 'C Y', 'A X', 'B X', 'C Z', 'B Z', 'B Z', 'A X', 'B Z', 'A Y', 'B Z', 'B Z', 'A X', 'B Z', 'C Y', 'C Y', 'A X', 'C Y', 'C X', 'C X', 'A X', 'B Z', 'C Y', 'B Z', 'C X', 'B Z', 'A Z', 'B Z', 'A Z', 'B X', 'B Z', 'A Z', 'A X', 'B Z', 'B Z', 'B Z', 'A X', 'A X', 'A X', 'B Z', 'A X', 'B Z', 'B X', 'A Y', 'B Z', 'A X', 'B Z', 'B Z', 'B Z', 'A X', 'B Z', 'C X', 'A Y', 'A X', 'A Z', 'C Y', 'C Y', 'A X', 'C Y', 'B Z', 'A X', 'B Z', 'C Y', 'B X', 'A Z', 'B Z', 'B Z', 'B X', 'B Z', 'B Z', 'B Z', 'A Y', 'A Y', 'C Y', 'A Z', 'A X', 'B Z', 'B Z', 'A X', 'A X', 'A X', 'B Z', 'A X', 'B Z', 'B Y', 'A X', 'A X', 'A X', 'B Z', 'B Z', 'B Z', 'C Y', 'A X', 'A X', 'A X', 'A X', 'A X', 'A X', 'C Y', 'A Z', 'C X', 'B Z', 'B Z', 'C Z', 'A X', 'A X', 'B Z', 'A X', 'B X', 'B Z', 'B Z', 'C X', 'B Z', 'A Z', 'A X', 'B Z', 'A Z', 'B Z', 'B Y', 'A X', 'C Y', 'A X', 'B Z', 'B Z', 'B Z', 'A Z', 'C Y', 'C Z', 'A X', 'B Z', 'B Z', 'B X', 'A X', 'B Z', 'A X', 'B Z', 'B Z', 'C Z', 'B Z', 'A X', 'C Y', 'C X', 'A Z', 'C X', 'A X', 'A X', 'A X', 'B Z', 'B Y', 'C Y', 'B Z', 'B Z', 'C Y', 'B Z', 'A X', 'B Z', 'A Z', 'A X', 'B Z', 'A Y', 'A X', 'A X', 'B X', 'B Z', 'B Z', 'B Z', 'B Z', 'C Z', 'B Y', 'A X', 'A X', 'B Z', 'B Z', 'B Z', 'C Z', 'B Z', 'B Z', 'A Y', 'A Z', 'B Z', 'A X', 'C Y', 'B Z', 'A Z', 'C Z', 'B Z', 'C X', 'B Z', 'B Z', 'A X', 'B Z', 'A X', 'B Z', 'C Y', 'A X', 'B Z', 'A Z', 'B Z', 'C Y', 'A X', 'C X', 'A X', 'A X', 'B Z', 'B Z', 'B X', 'B Z', 'C X', 'C Y', 'A Z', 'B Z', 'C Y', 'B Z', 'C Y', 'B Y', 'A Y', 'B Z', 'A X', 'B Z', 'A Z', 'B Z', 'A X', 'C X', 'B Z', 'B X', 'C Y', 'A Z', 'A X', 'B Z', 'B Z', 'B Z', 'A Z', 'C Y', 'C Y', 'B Z', 'A Y', 'A X', 'A X', 'A Y', 'C Y', 'A Y', 'B Z', 'B Z', 'B Z', 'A Z', 'B Z', 'A Z', 'B Z', 'A X', 'A Z', 'B Z', 'C Y', 'B Z', 'A X', 'A X', 'A X', 'A Z', 'A Z', 'B Z', 'C Y', 'B Z', 'A X', 'B Z', 'B Z', 'A Z', 'B Z', 'B Z', 'A X', 'B Z', 'B Z', 'B X', 'A X', 'B Z', 'B Z', 'A Z', 'A X', 'B X', 'A X', 'B Z', 'A X', 'B Z', 'A X', 'B Z', 'C Y', 'B Z', 'C Z', 'C X', 'B Z', 'B Z', 'B Z', 'C Y', 'C X', 'B Z', 'B Z', 'B Z', 'B Z', 'A Y', 'A Y', 'C Y', 'A X', 'C X', 'B X', 'A X', 'C X', 'A Y', 'B X', 'A X', 'A Z', 'B Z', 'B X', 'B Y', 'B Z', 'B Z', 'B X', 'B Z', 'C Y', 'B Z', 'A X', 'A X', 'A X', 'B Z', 'A X', 'B Z', 'A X', 'B Z', 'B Z', 'B Z', 'B Z', 'A X', 'C Y', 'A X', 'B Z', 'B Z', 'B Z', 'A X', 'B Z', 'B Z', 'C Z', 'A X', 'A Z', 'B Z', 'C Y', 'B Z', 'B Z', 'B Z', 'B Z', 'A Z', 'B Z', 'B Z', 'B Z', 'C Y', 'A X', 'B X', 'C Y', 'A X', 'C Z', 'B Z', 'C Y', 'C Y', 'B Z', 'A X', 'B Z', 'C Z', 'A X', 'A Z', 'B Z', 'A Z', 'B Z', 'B X', 'B Z', 'A Z', 'B Z', 'C Y', 'C Z', 'B Z', 'A X', 'B Z', 'A X', 'A X', 'B Z', 'B Z', 'B Z', 'B Z', 'A X', 'A Z', 'A X', 'B X', 'B Z', 'A Y', 'A Y', 'B Z', 'A X', 'B Z', 'B Z', 'A Y', 'C X', 'B Z', 'B Z', 'B Z', 'C X', 'B Z', 'C X', 'A X', 'B Z', 'C Y', 'A X', 'A X', 'A X', 'C Z', 'A X', 'A X', 'A Y', 'B Z', 'B Z', 'B Z', 'B Z', 'B Z', 'C X', 'C Y', 'B Z', 'B Z', 'C X', 'B Z', 'B Z', 'B Z', 'C Y', 'C Y', 'A Z', 'A X', 'B Z', 'A X', 'B X', 'B Z', 'B Z', 'C Y', 'B Z', 'A X', 'B X', 'A Z', 'A Z', 'B Z', 'A X', 'C X', 'A X', 'B Z', 'B Z', 'B Z', 'A X', 'A Z', 'C X', 'B Z', 'A X', 'A Z', 'A Z', 'A Z', 'A Z', 'C Y', 'B X', 'B X', 'C Z', 'B X', 'C Z', 'A X', 'A Y', 'B Z', 'B X', 'A Y', 'A Z', 'B X', 'A X', 'A X', 'C Z', 'A Z', 'B Z', 'C X', 'B Z', 'B Z', 'C X', 'B Z', 'C X', 'A X', 'A Y', 'A X', 'B Z', 'A X', 'B Z', 'C Y', 'B Z', 'B Z', 'B Z', 'B Z', 'B Z', 'B Z', 'B Z', 'B Z', 'B Z', 'A X', 'B Z', 'A X', 'B Z', 'A Y', 'B Z', 'A X', 'A Z', 'B Z', 'C Y', 'A Z', 'A X', 'A Z', 'C X', 'B Z', 'B Z', 'B Z', 'A X', 'C X', 'C Y', 'B Z', 'A Z', 'A Z', 'C X', 'B Z', 'C Y', 'A Z', 'A Z', 'A Y', 'B Z', 'A Z', 'B Z', 'B Y', 'C Y', 'B Z', 'B Z', 'A Z', 'A X', 'B Z', 'C Y', 'B Z', 'B Z', 'B Z', 'B Z', 'B Z', 'A X', 'C Y', 'B X', 'C X', 'B Z', 'A Z', 'B Z', 'A X', 'B Z', 'B Z', 'A X', 'C Y', 'A X', 'A X', 'A X', 'C X', 'A X', 'A X', 'B Z', 'A Y', 'A X', 'B Z', 'C X', 'A X', 'C Z', 'A X', 'B Z', 'C X', 'A X', 'A X', 'A X', 'B Z', 'C X', 'B Z', 'B Z', 'A X', 'A X', 'A X', 'A X', 'B Z', 'A X', 'A X', 'B Z', 'B X', 'A Y', 'A X', 'C X', 'A X', 'C X', 'A X', 'B Z', 'B Z', 'B Z', 'B Z', 'B Z', 'A X', 'A X', 'B X', 'C Y', 'A Y', 'C X', 'C X', 'C X', 'B Z', 'B Z', 'B X', 'B Z', 'B Z', 'C X', 'B Z', 'B Z', 'A X', 'B Z', 'B Z', 'B X', 'A X', 'A X', 'C Y', 'C X', 'A X', 'C Y', 'A Y', 'C X', 'B Z', 'A X', 'A Z', 'B Z', 'B Z', 'B X', 'B Z', 'B Z', 'B Z', 'C Y', 'B X', 'A X', 'B Z', 'A X', 'B Z', 'A X', 'A Z', 'A Y', 'C Y', 'B Z', 'C Y', 'A Z', 'A Z', 'B Z', 'A X', 'A X', 'C Y', 'C Y', 'A X', 'B Z', 'A X', 'C X', 'C Z', 'A X', 'A Y', 'A X', 'A X', 'A X', 'B Z', 'B Z', 'B Z', 'C Y', 'B Z', 'B Z', 'C Z', 'A X', 'B Z', 'B Z', 'A X', 'A X', 'B Z', 'B Z', 'B Z', 'A Y', 'B X', 'A Z', 'A Z', 'B Z', 'A X', 'B Z', 'B Y', 'A Y', 'A X', 'C Y', 'A Z', 'B Z', 'C X', 'C X', 'A X', 'B Z', 'A X', 'A X', 'A Z', 'B Z', 'A Z', 'A Z', 'B Z', 'B Z', 'A Y', 'B Z', 'C Y', 'C X', 'B Z', 'A X', 'A X', 'B Z', 'B Z', 'A X', 'A X', 'C Y', 'B Z', 'A Z', 'A X', 'B Z', 'C Y', 'B Z', 'A X', 'A X', 'B X', 'A X', 'B Z', 'C Y', 'B Z', 'A Y', 'B Z', 'B Z', 'B Z', 'B X', 'A X', 'B Z', 'C Y', 'B Z', 'B Z', 'B Z', 'A Z', 'C Y', 'C Y', 'C Y', 'A X', 'A Z', 'A X', 'B Z', 'A X', 'B Z', 'A X', 'C Y', 'B Z', 'B Z', 'A X', 'B Z', 'A X', 'A X', 'B Z', 'B Z', 'A X', 'A X', 'C X', 'B Z', 'A Y', 'A X', 'A X', 'B Z', 'C Y', 'C X', 'C X', 'B Y', 'A Z', 'B Z', 'A Z', 'A X', 'B Z', 'C Y', 'B Z', 'A X', 'A Z', 'B Z', 'A X', 'A Y', 'A X', 'B Z', 'B Z', 'B Y', 'B Z', 'A X', 'B Z', 'B Z', 'B Z', 'C Y', 'A X', 'B Z', 'B Z', 'A X', 'A X', 'A X', 'B Z', 'A Y', 'B Z', 'A Z', 'A X', 'B Z', 'C X', 'B Z', 'A X', 'A Z', 'A Z', 'B Z', 'A X', 'B Z', 'B Z', 'B Z', 'B Z', 'C Y', 'A Y', 'A Z', 'A X', 'A Y', 'B Z', 'B Z', 'B Z', 'C Y', 'C Y', 'B Z', 'A Y', 'A Z', 'A X', 'B Z', 'A Z', 'B Z', 'A X', 'C Y', 'B Z', 'B Z', 'B Z', 'B Z', 'B Z', 'C X', 'A Z', 'B Z', 'A Z', 'B Z', 'A X', 'B Z', 'A X', 'A Y', 'B Z', 'B X', 'B Z', 'A Y', 'B Z', 'A Z', 'B Z', 'B Z', 'A X', 'A Z', 'A Z', 'B X', 'B Z', 'A X', 'B X', 'A X', 'A Z', 'A X', 'C X', 'B Z', 'C X', 'A X', 'C X', 'A X', 'A X', 'A Z', 'A Z', 'B Z', 'A Z', 'B X', 'B Z', 'B Z', 'A X', 'B Z', 'B Z', 'A X', 'B Z', 'B Z', 'B Z', 'B Z', 'B Z', 'C X', 'A X', 'C Y', 'B Z', 'B Z', 'A Y', 'B X', 'B Z', 'A Z', 'B Z', 'B Z', 'C Y', 'B Z', 'A X', 'A Z', 'B Z', 'A Z', 'B Z', 'B Z', 'A X', 'B Z', 'A Z', 'A Z', 'A Z', 'C X', 'A Z', 'B Z', 'C Y', 'B Z', 'A Z', 'B Z', 'A X', 'A X', 'A X', 'A Z', 'A X', 'B Z', 'B Z', 'B Z', 'B Z', 'A Y', 'A X', 'C Y', 'C Z', 'B Z', 'A Z', 'A X', 'B Z', 'B X', 'B Z', 'A X', 'B Z', 'B Z', 'C Y', 'A X', 'B Z', 'B Z', 'C X', 'C X', 'B Z', 'B Y', 'A Y', 'A X', 'C Y', 'A X', 'A X', 'B Z', 'B Z', 'B Z', 'B Z', 'A Z', 'C X', 'A X', 'A X', 'A X', 'A X', 'A Y', 'A Z', 'A Y', 'A Y', 'B Z', 'A X', 'A Y', 'A X', 'A Z', 'A Z', 'A X', 'B Z', 'B Z', 'C Y', 'A X', 'B Z', 'C Y', 'B Z', 'B Z', 'A X', 'B Z', 'B X', 'A X', 'B Z', 'A Y', 'A Y', 'B X', 'B Z', 'B Z', 'C X', 'A X', 'B Z', 'A X', 'B X', 'B Z', 'A X', 'B Z', 'A X', 'B X', 'A X', 'A X', 'C X', 'A X', 'A X', 'B Z', 'A X', 'A X', 'A Y', 'B Z', 'B Z', 'C Y', 'B Z', 'A X', 'B Z', 'B Z', 'A Z', 'A X', 'B Z', 'A Y', 'B Z', 'C Y', 'A Z', 'A X', 'A Y', 'C Y', 'A X', 'A Y', 'C X', 'B Z', 'A X', 'A Y', 'A X', 'B Z', 'A Z', 'B Z', 'B Z', 'C Y', 'A X', 'C Y', 'A Z', 'B Z', 'B Z', 'A X', 'A X', 'B X', 'B Z', 'C Y', 'B Z', 'B Y', 'A X', 'B Z', 'A X', 'C X', 'B Z', 'A Y', 'A X', 'B Z', 'C Y', 'A Z', 'B Z', 'A X', 'A X', 'A Y', 'A Z', 'C X', 'B Z', 'B Z', 'B Z', 'A Z', 'B Z', 'C Y', 'B Z', 'B Z', 'B Z', 'B Z', 'B X', 'B Z', 'A X', 'B Z', 'B Z', 'A X', 'C X', 'C Y', 'B Z', 'B Z', 'A X', 'B Z', 'A X', 'A X', 'A Y', 'B Z', 'A Z', 'B Z', 'C Y', 'B Z', 'A X', 'A Y', 'C Y', 'B Y', 'A Y', 'A X', 'C Y', 'A X', 'A Z', 'A X', 'B Z', 'A Z', 'B Z', 'A X', 'B Z', 'C Y', 'A X', 'B Z', 'B X', 'B Z', 'A X', 'A X', 'A X', 'B Z', 'A Z', 'A Z', 'B Z', 'A X', 'B Z', 'B Z', 'A X', 'A X', 'B Z', 'B Z', 'A X', 'B Z', 'B X', 'B Z', 'C Y', 'A Z', 'B X', 'A X', 'B Z', 'B Z', 'A X', 'B Z', 'A X', 'B Z', 'B X', 'B X', 'A X', 'B Z', 'B Z', 'B Z', 'B Z', 'A Y', 'B Z', 'B Z', 'A X', 'C X', 'B Z', 'B Z', 'B Z', 'B Z', 'B Z', 'A X', 'C X', 'A Y', 'A X', 'A X', 'B Z', 'C Y', 'C X', 'B Z', 'A X', 'A Y', 'B Z', 'A X', 'B Z', 'C Y', 'B Z', 'A X', 'B Z', 'A Y', 'B X', 'A X', 'B Z', 'A X', 'B Z', 'A X', 'B Z', 'A X', 'C X', 'C X', 'A X', 'B Z', 'A Y', 'B Z', 'B Z', 'A X', 'A X', 'B Z', 'B Z', 'B Z', 'A X', 'A X', 'A X', 'C Y', 'A Y', 'B Z', 'B Z', 'B Z', 'B Z', 'A X', 'A X', 'B Z', 'B Z', 'C Y', 'A X', 'A X', 'B Z', 'A X', 'A Y', 'A X', 'B Z', 'B Z', 'B Z', 'A X', 'B Z', 'A X', 'B Z', 'A X', 'A X', 'B Z', 'A Y', 'A Z', 'B Y', 'A X', 'A Z', 'B Z', 'B Z', 'A Z', 'A X', 'A X', 'B Z', 'A X', 'B Z', 'A X', 'C X', 'A Z', 'A X', 'B Z', 'B Z', 'A X', 'A Z', 'C X', 'B Z', 'B Z', 'A X', 'B Z', 'B Z', 'A X', 'B Z', 'B Z', 'B Z', 'A Y', 'A Z', 'B Z', 'B Z', 'A X', 'B Z', 'B Z', 'B X', 'C X', 'B Z', 'B Z', 'B Z', 'A X', 'A X', 'A Z', 'B Z', 'C X', 'B Y', 'A Y', 'B Z', 'B Z', 'A X', 'A X', 'A Z', 'B Z', 'B Z', 'B Z', 'A X', 'A Z', 'A X', 'B Z', 'B Z', 'A Z', 'B Z', 'A Y', 'A Z', 'C Y', 'B Z', 'B Z', 'B Z', 'B Z', 'A Z', 'A Z', 'A Y', 'B Z', 'A X', 'A X', 'B Z', 'A Z', 'B Z', 'B Z', 'B X', 'C Y', 'B Z', 'C Y', 'B Z', 'A X', 'C Z', 'B Z', 'A X', 'A X', 'B Z', 'A Z', 'A X', 'B Z', 'A Z', 'A X', 'C Z', 'C X', 'B Z', 'B Z', 'B Z', 'B Z', 'B Z', 'C Y', 'A X', 'B Z', 'C Y', 'A X', 'B Z', 'B Z', 'A Z', 'A Z', 'B Z', 'C Y', 'A X', 'C X', 'B Z', 'B Z', 'B Z', 'B Z', 'A X', 'B Z', 'A X', 'B Z', 'A Y', 'B Z', 'B Z', 'B Z', 'B Z', 'B Z', 'C Y', 'B Z', 'B Z', 'A X', 'A X', 'A X', 'A Z', 'B Z', 'A Y', 'C Z', 'A Z', 'B Z', 'B Z', 'B Z', 'A X', 'B X', 'C Y', 'C X', 'C Y', 'B Z', 'B Z', 'B Z', 'B Z', 'A Y', 'B Z', 'A X', 'C X', 'A X', 'B X', 'C X', 'B Z', 'B Z', 'A X', 'A X', 'C Y', 'C Y', 'A X', 'B Z', 'C Y', 'A Y', 'A Z', 'A Y', 'B Z', 'B Z', 'B Z', 'A Y', 'B Z', 'A Z', 'A X', 'B Z', 'C X', 'A Z', 'B Z', 'A X', 'C X', 'A X', 'C Y', 'B X', 'B Z', 'B Z', 'A X', 'C Y', 'A X', 'B Z', 'C X', 'A Z', 'A Y', 'B Z', 'A Z', 'B Z', 'B Z', 'B Z', 'B Z', 'A X', 'A X', 'B Z', 'A Z', 'C Y', 'A Y', 'A X', 'A X', 'B Z', 'C Z', 'B Z', 'A Z', 'B X', 'C X', 'B Z', 'B Z', 'A X', 'A Z', 'A X', 'A Z', 'A X', 'B Z', 'B Z', 'C Y', 'B Z', 'B Z', 'B Z', 'B Z', 'A Z', 'B Z', 'B X', 'B Z', 'B Z', 'B Z', 'B Z', 'C X', 'C X', 'A X', 'B Z', 'B Z', 'B Z', 'B Z', 'B Z', 'B Z', 'A X', 'C X', 'B Z', 'B Z', 'A Y', 'B Z', 'A X', 'C Y', 'B Z', 'C Y', 'B Z', 'A Y', 'B Z', 'B Z', 'B Z', 'A X', 'A X', 'A X', 'B Z', 'C Y', 'B Z', 'A Z', 'A Y', 'A Z', 'A Y', 'B Z', 'A X', 'B X', 'B Z', 'A X', 'B Z', 'A Y', 'A X', 'B Z', 'A X', 'A X', 'A Y', 'A Y', 'A X', 'A X', 'A X', 'B Z', 'B Z', 'B Z', 'A X', 'B Z', 'A X', 'B Z', 'A X', 'B Y', 'B Y', 'A X', 'B Z', 'C X', 'A Z', 'C Y', 'A X', 'B Z', 'B Z', 'B Z', 'C Y', 'B X', 'C Y', 'B Z', 'B Z', 'B Z', 'A Z', 'B Z', 'B Z', 'B Z', 'C Y', 'B Z', 'B Z', 'A X', 'A Z', 'A Y', 'C Y', 'B Z', 'B Z', 'A X', 'B Z', 'B Z', 'A X', 'A X', 'B Z', 'B Y', 'B Z', 'B Z', 'A Z', 'B Z', 'B Z', 'A X', 'B Z', 'A X', 'C X', 'C X', 'A X', 'C Y', 'B Z', 'B Z', 'B Z', 'A X', 'C Y', 'B Z', 'B Z', 'B Z', 'B Z', 'B Z', 'B Z', 'B Z', 'B Z', 'B Z', 'B Z', 'C Y', 'C X', 'B Z', 'B Z', 'B Z', 'C Y', 'A Y', 'C Y', 'A X', 'B X', 'B Z', 'A X', 'C X', 'B Z', 'A Z', 'C X', 'C X', 'B Z', 'B Z', 'A Z', 'B Z', 'B X', 'B Z', 'B Z', 'B Z', 'A X', 'C X', 'B Z', 'A X', 'C Y', 'B Z', 'B Z', 'C X', 'B X', 'A X', 'B Z', 'C X', 'C X', 'B Z', 'B X', 'A X', 'B Z', 'A Y', 'B Z', 'A Z', 'A X', 'B Z', 'A X', 'A X', 'B Z', 'B Z', 'A X', 'B Z', 'A X', 'A X', 'C Y', 'B Z', 'A X', 'C Y', 'B Z', 'B Z', 'A X', 'A Y', 'C Y', 'B Z', 'A X', 'B Z', 'A X', 'A X', 'B Z', 'B Z', 'C Y', 'B Z', 'A X', 'A X', 'A X', 'A X', 'A Z', 'B Z', 'B Z', 'C X', 'C X', 'B Z', 'B Z', 'C Y', 'B Z', 'A Y', 'B Z', 'A X', 'C X', 'A Z', 'B Z', 'B Z', 'B Z', 'C Y', 'A X', 'B Z', 'B Z', 'C Y', 'B Z', 'C Y', 'B Z', 'A Z', 'B Z', 'A X', 'B Z', 'C Y', 'C Y', 'A X', 'A X', 'A Z', 'B Z', 'C Y', 'C Y', 'A X', 'B Z', 'B Z', 'A X', 'B Z', 'B Z', 'B Z', 'B Z', 'B X', 'B Y', 'A X', 'B Z', 'B Z', 'B Z', 'C Y', 'A X', 'A Y', 'B Z', 'A Z', 'A Z', 'B X', 'A X', 'C Y', 'B Z', 'B Z', 'A Z', 'B Z', 'C X', 'C X', 'A Z', 'B Z', 'A X', 'B Z', 'A X', 'B Z', 'B Z', 'B X', 'A X', 'A Z', 'B X', 'A X', 'B Z', 'A X', 'A X', 'A Z', 'A Y', 'B Z', 'A Y', 'C Y', 'C X', 'B Z', 'B Z', 'A X', 'A X', 'B Z', 'B Z', 'B Z', 'A Z', 'C X', 'A X', 'B Z', 'B Z', 'A X', 'B Z', 'B Z', 'B Z', 'A X', 'A Z', 'B Z', 'A X', 'B Z', 'A X', 'B Z', 'B Z', 'A X', 'C Y', 'A X', 'C X', 'A Z', 'B X', 'A Y', 'A Y', 'B Z', 'B Z', 'B Z', 'A X', 'A X', 'A X', 'A Y', 'B Z', 'B Z', 'B Z', 'B Z', 'B Z', 'B Z', 'B Z', 'B Z', 'C Y', 'B Z', 'B Z', 'B Z', 'C Y', 'A X', 'A Z', 'B Z', 'C Y', 'B Z', 'A Z', 'A X', 'B Z', 'A Y', 'B Z', 'B Z', 'A Z', 'B Z', 'A X', 'A Z', 'A Z', 'B Z', 'B Z', 'B Z', 'B Z', 'A X', 'A Z', 'B Z', 'B Z', 'B Z', 'B Z', 'A Z', 'B Z', 'C X', 'B Z', 'B Y', 'A X', 'B Z', 'B Z', 'A X', 'B Z', 'A X', 'A X', 'A X', 'A X', 'B X', 'B Z', 'C X', 'B Z', 'B Z', 'B Z', 'A X', 'B Z', 'C X', 'B Z', 'A Z', 'A X', 'A X', 'B Z', 'B Z', 'B Z', 'B Z', 'C X', 'A X', 'B Z', 'B Z', 'C Y', 'B Z', 'C Y', 'B Z', 'B Z', 'A X', 'B Z', 'A X', 'A Y', 'B Z', 'A Z', 'B Z', 'B Z', 'A Y', 'B Z', 'B Z', 'C Y', 'A X', 'A X', 'A X', 'A X', 'B Z', 'B Z', 'A Y', 'B Z', 'A Z', 'A X', 'A X', 'B Z', 'A Y', 'B Z', 'B Z', 'B X', 'A Y', 'A X', 'A X', 'C Y', 'C X', 'A X', 'B Z', 'B Z', 'B Z', 'A Y', 'B Z', 'C X', 'C X', 'C X', 'B Z', 'B Z', 'B Z', 'B Z', 'B Z', 'A X', 'B Z', 'A Y', 'B Z', 'A Y', 'C X', 'B X', 'B Z', 'B Z', 'A X', 'B X', 'B Z', 'B Z', 'B Z', 'B Z', 'B Z', 'A X', 'B Z', 'C X', 'B X', 'A X', 'A X', 'A X', 'A X', 'A X', 'B Z', 'C X', 'C Y', 'A X', 'B Z', 'C X', 'A Z', 'B Z', 'B Z', 'C Y', 'A X', 'A Z', 'B Z', 'B Z', 'B Z', 'B Z', 'B Z', 'B Z', 'A X', 'A X', 'B X', 'A X', 'B Z', 'A X', 'B Z', 'B Z', 'A Z', 'B Z', 'B Z', 'B Z', 'B Z', 'C X', 'B Z', 'A Z', 'B Z', 'B Z', 'A Z', 'A X', 'C X', 'B X', 'C X', 'A X', 'B Z', 'A Z', 'B X', 'B X', 'A Z', 'B Z', 'B Z', 'B X', 'B Z', 'B Z', 'C X', 'A Y', 'A X', 'A Z', 'B Z', 'A X', 'B Z', 'B Z', 'B Z', 'B Z', 'A X', 'A X', 'C Y', 'B Z', 'B Z', 'B Z', 'A Z', 'C X', 'C Y', 'B Y', 'B Z', 'B Z', 'A X', 'C Y', 'A Z', 'B Z', 'B Z', 'B Z', 'B Z', 'B Z', 'C X', 'B Z', 'A X', 'C X', 'A X', 'A Z', 'C Y', 'C X', 'B Z', 'B Z', 'A Y', 'A Z', 'A Z', 'A X', 'A Z', 'A Z', 'C Y', 'B Z', 'B Z', 'B Z', 'B Z', 'A Z', 'A X', 'A Y', 'C X', 'A X', 'B Z', 'B Z', 'B Z', 'A X', 'B Z', 'B Z', 'A Z', 'B Z', 'A X', 'B Z', 'A X', 'A Y', 'B Z', 'A X', 'A Z', 'B Z', 'A X', 'B Z', 'C X', 'B Z', 'B Z', 'C X', 'A Y', 'B Z', 'A Z', 'C X', 'C Z', 'C X', 'B Z', 'B Z', 'B Z', 'A X', 'B Z', 'C X', 'A X', 'A Y', 'A X', 'A Z', 'C Y', 'A X', 'B Z', 'B Z', 'C Z', 'A X', 'B Z', 'B Z', 'A X', 'A Z', 'B Z', 'A Y', 'B Z', 'C X', 'A X', 'A X', 'B Z', 'B Z', 'B Z', 'B X', 'C X', 'B Z', 'B Z', 'A X', 'A X', 'A Z', 'B Z', 'B Z', 'A Z', 'C Y', 'C Z', 'B Z', 'A X', 'A X', 'A X', 'C Y', 'A X', 'A X', 'A X', 'A Z', 'B Z', 'A Y', 'B Z', 'C X', 'B Z', 'A X', 'C X', 'B Z', 'A Y', 'A X', 'B Z', 'B Z', 'B Z', 'A X', 'A Y', 'B Z', 'A X', 'B Z', 'B Z', 'B Z', 'B Z', 'A X', 'A X', 'B Z', 'C X', 'B X', 'A Z', 'B Z', 'B Z', 'B Z', 'B Z', 'B Z']\n"
          ]
        }
      ]
    }
  ]
}