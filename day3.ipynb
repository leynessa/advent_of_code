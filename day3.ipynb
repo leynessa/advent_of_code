{
  "nbformat": 4,
  "nbformat_minor": 0,
  "metadata": {
    "colab": {
      "provenance": [],
      "authorship_tag": "ABX9TyO3BzzKm58VkmbN8MDcX0OO",
      "include_colab_link": true
    },
    "kernelspec": {
      "name": "python3",
      "display_name": "Python 3"
    },
    "language_info": {
      "name": "python"
    }
  },
  "cells": [
    {
      "cell_type": "markdown",
      "metadata": {
        "id": "view-in-github",
        "colab_type": "text"
      },
      "source": [
        "<a href=\"https://colab.research.google.com/github/leynessa/advent_of_code/blob/main/day3.ipynb\" target=\"_parent\"><img src=\"https://colab.research.google.com/assets/colab-badge.svg\" alt=\"Open In Colab\"/></a>"
      ]
    },
    {
      "cell_type": "markdown",
      "source": [
        "day 3\n",
        "\n",
        "One Elf has the important job of loading all of the rucksacks with supplies for the jungle journey. Unfortunately, that Elf didn't quite follow the packing instructions, and so a few items now need to be rearranged.\n",
        "\n",
        "Each rucksack has two large compartments. All items of a given type are meant to go into exactly one of the two compartments. The Elf that did the packing failed to follow this rule for exactly one item type per rucksack.\n",
        "\n",
        "The Elves have made a list of all of the items currently in each rucksack (your puzzle input), but they need your help finding the errors. Every item type is identified by a single lowercase or uppercase letter (that is, a and A refer to different types of items).\n",
        "\n",
        "The list of items for each rucksack is given as characters all on a single line. A given rucksack always has the same number of items in each of its two compartments, so the first half of the characters represent items in the first compartment, while the second half of the characters represent items in the second compartment.\n",
        "\n",
        "For example, suppose you have the following list of contents from six rucksacks:\n",
        "\n",
        "vJrwpWtwJgWrhcsFMMfFFhFp\n",
        "jqHRNqRjqzjGDLGLrsFMfFZSrLrFZsSL\n",
        "PmmdzqPrVvPwwTWBwg\n",
        "wMqvLMZHhHMvwLHjbvcjnnSBnvTQFn\n",
        "ttgJtRGJQctTZtZT\n",
        "CrZsJsPPZsGzwwsLwLmpwMDw\n",
        "The first rucksack contains the items vJrwpWtwJgWrhcsFMMfFFhFp, which means its first compartment contains the items vJrwpWtwJgWr, while the second compartment contains the items hcsFMMfFFhFp. The only item type that appears in both compartments is lowercase p.\n",
        "The second rucksack's compartments contain jqHRNqRjqzjGDLGL and rsFMfFZSrLrFZsSL. The only item type that appears in both compartments is uppercase L.\n",
        "The third rucksack's compartments contain PmmdzqPrV and vPwwTWBwg; the only common item type is uppercase P.\n",
        "The fourth rucksack's compartments only share item type v.\n",
        "The fifth rucksack's compartments only share item type t.\n",
        "The sixth rucksack's compartments only share item type s.\n",
        "To help prioritize item rearrangement, every item type can be converted to a priority:\n",
        "\n",
        "Lowercase item types a through z have priorities 1 through 26.\n",
        "Uppercase item types A through Z have priorities 27 through 52.\n",
        "In the above example, the priority of the item type that appears in both compartments of each rucksack is 16 (p), 38 (L), 42 (P), 22 (v), 20 (t), and 19 (s); the sum of these is 157.\n",
        "\n",
        "Find the item type that appears in both compartments of each rucksack. What is the sum of the priorities of those item types?"
      ],
      "metadata": {
        "id": "ViGE3YWgVaF0"
      }
    },
    {
      "cell_type": "code",
      "execution_count": null,
      "metadata": {
        "colab": {
          "base_uri": "https://localhost:8080/"
        },
        "id": "J5pNlu2VFxf5",
        "outputId": "e64cc007-d099-424f-f95c-4a011a25ac81"
      },
      "outputs": [
        {
          "output_type": "stream",
          "name": "stdout",
          "text": [
            "8493\n"
          ]
        }
      ],
      "source": [
        "from string import ascii_letters\n",
        "with open('input.txt') as file:\n",
        "  data = [i for i in file.read().strip().split(\"\\n\")]\n",
        "\n",
        "totalSum = 0\n",
        "  #iterate through the data\n",
        "for rocksack in data:\n",
        "    # find half way point\n",
        "  half = len(rocksack)//2\n",
        "\n",
        "    #left half... set function return a set of unique characters in that string \n",
        "  left = set(rocksack[:half])\n",
        "\n",
        "    #right half\n",
        "  right = set(rocksack[half:])\n",
        "\n",
        "    #go through letter and assign it a valor. so the best way to do this is enumerate\n",
        "  for key, char in enumerate(ascii_letters):\n",
        "    if char in left and char in right:\n",
        "      totalSum += key +1\n",
        "\n",
        "print(totalSum)\n",
        "    #find unique item to both compartments\n",
        "\n",
        "    #print(rocksack, left, right)\n",
        "   #assign common letters in the aphabet 1-26\n",
        "   #assign capital letters 27 to 52\n",
        "\n",
        "\n",
        "   #count character in row\n",
        "   # devide total characters by 2\n",
        "   #  same in each file\n",
        "   # loop thru the characters and see if the are any repeat character in bothe group\n",
        "   #"
      ]
    },
    {
      "cell_type": "markdown",
      "source": [
        "s you finish identifying the misplaced items, the Elves come to you with another issue.\n",
        "\n",
        "For safety, the Elves are divided into groups of three. Every Elf carries a badge that identifies their group. For efficiency, within each group of three Elves, the badge is the only item type carried by all three Elves. That is, if a group's badge is item type B, then all three Elves will have item type B somewhere in their rucksack, and at most two of the Elves will be carrying any other item type.\n",
        "\n",
        "The problem is that someone forgot to put this year's updated authenticity sticker on the badges. All of the badges need to be pulled out of the rucksacks so the new authenticity stickers can be attached.\n",
        "\n",
        "Additionally, nobody wrote down which item type corresponds to each group's badges. The only way to tell which item type is the right one is by finding the one item type that is common between all three Elves in each group.\n",
        "\n",
        "Every set of three lines in your list corresponds to a single group, but each group can have a different badge item type. So, in the above example, the first group's rucksacks are the first three lines:\n",
        "\n",
        "vJrwpWtwJgWrhcsFMMfFFhFp\n",
        "jqHRNqRjqzjGDLGLrsFMfFZSrLrFZsSL\n",
        "PmmdzqPrVvPwwTWBwg\n",
        "And the second group's rucksacks are the next three lines:\n",
        "\n",
        "wMqvLMZHhHMvwLHjbvcjnnSBnvTQFn\n",
        "ttgJtRGJQctTZtZT\n",
        "CrZsJsPPZsGzwwsLwLmpwMDw\n",
        "In the first group, the only item type that appears in all three rucksacks is lowercase r; this must be their badges. In the second group, their badge item type must be Z.\n",
        "\n",
        "Priorities for these items must still be found to organize the sticker attachment efforts: here, they are 18 (r) for the first group and 52 (Z) for the second group. The sum of these is 70.\n",
        "\n",
        "Find the item type that corresponds to the badges of each three-Elf group. What is the sum of the priorities of those item types?"
      ],
      "metadata": {
        "id": "d2d3XtblncRa"
      }
    },
    {
      "cell_type": "code",
      "source": [
        "j = 3\n",
        "totalSum = 0\n",
        "for i in range(0, len(data), 3):\n",
        "  rocksacks = data[i:j]\n",
        "  j += 3\n",
        "  for key, char in enumerate(ascii_letters):\n",
        "     if char in rocksacks[0] and char in rocksacks[1] and char in rocksacks[2]:\n",
        "       totalSum += key + 1\n",
        "\n",
        "print(totalSum)"
      ],
      "metadata": {
        "colab": {
          "base_uri": "https://localhost:8080/"
        },
        "id": "BOQJTNoKnfmU",
        "outputId": "d88a6228-eecb-4890-a5e1-bf3c91a51a49"
      },
      "execution_count": null,
      "outputs": [
        {
          "output_type": "stream",
          "name": "stdout",
          "text": [
            "2552\n"
          ]
        }
      ]
    }
  ]
}