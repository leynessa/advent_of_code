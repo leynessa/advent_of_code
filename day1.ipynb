{
  "nbformat": 4,
  "nbformat_minor": 0,
  "metadata": {
    "colab": {
      "provenance": [],
      "toc_visible": true,
      "authorship_tag": "ABX9TyOAZ7Gb1T+V+xWRdTLhuGK9",
      "include_colab_link": true
    },
    "kernelspec": {
      "name": "python3",
      "display_name": "Python 3"
    },
    "language_info": {
      "name": "python"
    }
  },
  "cells": [
    {
      "cell_type": "markdown",
      "metadata": {
        "id": "view-in-github",
        "colab_type": "text"
      },
      "source": [
        "<a href=\"https://colab.research.google.com/github/leynessa/advent_of_code/blob/main/day1.ipynb\" target=\"_parent\"><img src=\"https://colab.research.google.com/assets/colab-badge.svg\" alt=\"Open In Colab\"/></a>"
      ]
    },
    {
      "cell_type": "markdown",
      "source": [],
      "metadata": {
        "id": "G8M49KT2oORT"
      }
    },
    {
      "cell_type": "markdown",
      "source": [
        "# **Day 1: Calorie Counting**\n",
        "\n",
        "\n",
        "The jungle must be too overgrown and difficult to navigate in vehicles or access from the air; the Elves' expedition traditionally goes on foot. As your boats approach land, the Elves begin taking inventory of their supplies. One important consideration is food - in particular, the number of Calories each Elf is carrying (your puzzle input).\n",
        "\n",
        "The Elves take turns writing down the number of Calories contained by the various meals, snacks, rations, etc. that they've brought with them, one item per line. **Each Elf separates their own inventory from the previous Elf's inventory (if any) by a blank line.**\n",
        "\n",
        "\n",
        "For example, suppose the Elves finish writing their items' Calories and end up with the following list:\n",
        "\n",
        "1000\n",
        "2000\n",
        "3000\n",
        "\n",
        "4000\n",
        "\n",
        "5000\n",
        "6000\n",
        "\n",
        "7000\n",
        "8000\n",
        "9000\n",
        "\n",
        "10000\n",
        "This list represents the Calories of the food carried by five Elves:\n",
        "\n",
        "The first Elf is carrying food with 1000, 2000, and 3000 Calories, a total of 6000 Calories.\n",
        "The second Elf is carrying one food item with 4000 Calories.\n",
        "The third Elf is carrying food with 5000 and 6000 Calories, a total of 11000 Calories.\n",
        "The fourth Elf is carrying food with 7000, 8000, and 9000 Calories, a total of 24000 Calories.\n",
        "The fifth Elf is carrying one food item with 10000 Calories.\n",
        "In case the Elves get hungry and need extra snacks, they need to know which Elf to ask: they'd like to know how many Calories are being carried by the Elf carrying the most Calories. In the example above, this is 24000 (carried by the fourth Elf).\n",
        "\n",
        "**Find the Elf carrying the most Calories.**\n",
        " **How many total Calories is that Elf carrying?**\n",
        "\n",
        "```\n",
        "# This is formatted as code\n",
        "```\n",
        "\n",
        "\n",
        "\n"
      ],
      "metadata": {
        "id": "itHppcV3Uemo"
      }
    },
    {
      "cell_type": "code",
      "source": [
        "#getting the data \n",
        "with open(\"2022-01.txt\") as file:\n",
        "  data = [i for i in file.read().strip().split(\"\\n\")]  \n",
        "  #sprit() Remove spaces at the beginning and at the end of the string\n",
        "  #split() method splits the string by new line character and returns a list of strings.\n",
        "  #the empty string are also apart of the array.. which then will be use to separate which each elf \n",
        "# we will sum each number of the array until we see an empty string\n",
        "max = 0 # give the max calorie each elf has \n",
        "count = 0 # to count how much items each elf has \n",
        "for i in data:\n",
        "  if i == '':\n",
        "    count = 0\n",
        "  else:\n",
        "    num = int(i)\n",
        "    count += num #add the num to the total calorie\n",
        "\n",
        "  if  count > max: \n",
        "    max = count # it will compare the count with the max when it iteration reach a blank space and if the count is great it will save it to max and reset count to 0.\n",
        "\n",
        "print(max)"
      ],
      "metadata": {
        "colab": {
          "base_uri": "https://localhost:8080/"
        },
        "id": "MUC2paUsiw6E",
        "outputId": "5cb1928e-a0dd-4fae-b125-da6cc63b238b"
      },
      "execution_count": 12,
      "outputs": [
        {
          "output_type": "stream",
          "name": "stdout",
          "text": [
            "66719\n"
          ]
        }
      ]
    },
    {
      "cell_type": "markdown",
      "source": [
        "--- Part Two --- \n",
        "By the time you calculate the answer to the Elves' question, they've already realized that the Elf carrying the most Calories of food might eventually run out of snacks.\n",
        "\n",
        "To avoid this unacceptable situation, **the Elves would instead like to know the total Calories carried by the top three Elves carrying the most Calories.** That way, even if one of those Elves runs out of snacks, they still have two backups.\n",
        "\n",
        "In the example above, the top three Elves are the fourth Elf (with 24000 Calories), then the third Elf (with 11000 Calories), then the fifth Elf (with 10000 Calories). The sum of the Calories carried by these three elves is 45000.\n",
        "\n",
        "Find the top three Elves carrying the most Calories. How many Calories are those Elves carrying in total?\n",
        "\n",
        "Your puzzle answer was 198551"
      ],
      "metadata": {
        "id": "9bbzF0pIod8c"
      }
    },
    {
      "cell_type": "code",
      "source": [
        "with open(\"2022-01.txt\") as file:\n",
        "  data = [i for i in file.read().strip().split(\"\\n\")]  \n",
        "  max = 0 # give the max calorie each elf has \n",
        "  max_2 = 0\n",
        "  max_3 = 0\n",
        "count = 0 # to count how much items each elf has \n",
        "for i in data:\n",
        "  if i == '':\n",
        "    count = 0 # reset the count\n",
        "  else:\n",
        "    num = int(i)\n",
        "    count += num #add the num to the total calorie\n",
        "\n",
        "  if  count > max: \n",
        "    max = count # it will compare the count with the max when it iteration reach a blank space and if the count is great it will save it to max and reset count to 0.\n",
        "  elif count > max_2:\n",
        "   max_2 = count\n",
        "  elif count > max_3: \n",
        "    max_3 = count\n",
        "\n",
        "print(max+ max_2+max_3)\n",
        "sum = int(max) + int(max_2) + int(max_3)\n",
        "print(sum)\n",
        "\n",
        "\n"
      ],
      "metadata": {
        "colab": {
          "base_uri": "https://localhost:8080/"
        },
        "id": "E90XNdBBpKNq",
        "outputId": "cf968560-db28-43c9-95d6-f08beea145fe"
      },
      "execution_count": 21,
      "outputs": [
        {
          "output_type": "stream",
          "name": "stdout",
          "text": [
            "196694\n",
            "196694\n"
          ]
        }
      ]
    },
    {
      "cell_type": "markdown",
      "source": [],
      "metadata": {
        "id": "PDB-l0xbUdiR"
      }
    }
  ]
}